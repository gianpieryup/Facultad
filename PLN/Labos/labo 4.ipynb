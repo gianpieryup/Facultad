{
 "cells": [
  {
   "cell_type": "markdown",
   "id": "2c4f0bb9",
   "metadata": {},
   "source": [
    "082057 – Procesamiento del Lenguaje Natural\n",
    "<center><h1>Lab 4</h1> </center>\n",
    "<center><h2>Semántica léxica (Lexical Semantic)</h2></center>"
   ]
  },
  {
   "cell_type": "markdown",
   "id": "ad6fcdd2",
   "metadata": {},
   "source": [
    "### 1 De que se trata?\n",
    "Este laboratorio se centra en la semántica léxica y utiliza NLTK para brindarte experiencia\n",
    "práctica con WordNet y realizar la desambiguación del sentido de las palabras.\n",
    "El ejercicio se basa en tutoriales en el sitio web de NLTK\n",
    "http://www.nltk.org/howto/wordnet.html.\n",
    "\n",
    "\n",
    "### 2 NLTK environment\n",
    "El primer paso es importar NLTK y algunos corpus como en los últimos laboratorios. Para llevar a cabo\n",
    "este paso, escriba"
   ]
  },
  {
   "cell_type": "code",
   "execution_count": 1,
   "id": "e1ebe9a4",
   "metadata": {},
   "outputs": [
    {
     "name": "stdout",
     "output_type": "stream",
     "text": [
      "*** Introductory Examples for the NLTK Book ***\n",
      "Loading text1, ..., text9 and sent1, ..., sent9\n",
      "Type the name of the text or sentence to view it.\n",
      "Type: 'texts()' or 'sents()' to list the materials.\n",
      "text1: Moby Dick by Herman Melville 1851\n",
      "text2: Sense and Sensibility by Jane Austen 1811\n",
      "text3: The Book of Genesis\n",
      "text4: Inaugural Address Corpus\n",
      "text5: Chat Corpus\n",
      "text6: Monty Python and the Holy Grail\n",
      "text7: Wall Street Journal\n",
      "text8: Personals Corpus\n",
      "text9: The Man Who Was Thursday by G . K . Chesterton 1908\n"
     ]
    }
   ],
   "source": [
    "import nltk\n",
    "from nltk.book import *"
   ]
  },
  {
   "cell_type": "markdown",
   "id": "55485a85",
   "metadata": {},
   "source": [
    "### 3 Accediendo a WordNet\n",
    "Podes\timportar\tWordNet\tejecutando:"
   ]
  },
  {
   "cell_type": "code",
   "execution_count": 2,
   "id": "4333084e",
   "metadata": {},
   "outputs": [],
   "source": [
    "from nltk.corpus import wordnet as wn"
   ]
  },
  {
   "cell_type": "markdown",
   "id": "3bd8f6ae",
   "metadata": {},
   "source": [
    "Como vimos en las clases, WordNet está organizado como **synsets**,cada synset es un conjunto de \n",
    "palabras\tsinónimas.\tUna\tpalabra\taparecerá\ten\tmúltiples\tsynsets\tsi\ttiene\tmúltiples\tsentidos(senses),\tasí\t\n",
    "como\tsi\tpuede\taparecer\ten\tmás\tde\tun\t**POS**.\n",
    "\n",
    "Por\tejemplo: sustantivo\ty\tverbo.\tPodes recuperar\ttodos\tlos\tsynsets\tasociados\tcon\tuna\tpalabra\tusando\tla\t\n",
    "llamada\tal\tmétodo\tsynsets():\n",
    "\n",
    "##### Synsets : El sentido que tiene una palabara"
   ]
  },
  {
   "cell_type": "code",
   "execution_count": 6,
   "id": "306e1fa9",
   "metadata": {},
   "outputs": [
    {
     "data": {
      "text/plain": [
       "[Synset('dog.n.01'),\n",
       " Synset('frump.n.01'),\n",
       " Synset('dog.n.03'),\n",
       " Synset('cad.n.01'),\n",
       " Synset('frank.n.02'),\n",
       " Synset('pawl.n.01'),\n",
       " Synset('andiron.n.01'),\n",
       " Synset('chase.v.01')]"
      ]
     },
     "execution_count": 6,
     "metadata": {},
     "output_type": "execute_result"
    }
   ],
   "source": [
    "wn.synsets('dog')"
   ]
  },
  {
   "cell_type": "markdown",
   "id": "9fbe356d",
   "metadata": {},
   "source": [
    "Vemos\tque\thay\t7\tsynsets\tde\tsustantivos\ty\t1\tsynset\tde\t**verbos**\tasociados\tcon\tla\tpalabra\t\"perro\".\tPuede\t\n",
    "restringir\tla\trecuperación\ta\tun\tPOS particular\tutilizando\tel\targumento\tpos."
   ]
  },
  {
   "cell_type": "code",
   "execution_count": 8,
   "id": "fc2f1b7a",
   "metadata": {},
   "outputs": [
    {
     "data": {
      "text/plain": [
       "[Synset('chase.v.01')]"
      ]
     },
     "execution_count": 8,
     "metadata": {},
     "output_type": "execute_result"
    }
   ],
   "source": [
    "wn.synsets('dog', pos=wn.VERB)"
   ]
  },
  {
   "cell_type": "markdown",
   "id": "f95a67ac",
   "metadata": {},
   "source": [
    "Como habrás visto en los ejemplos anteriores, se hace referencia a un conjunto de sistemas en\n",
    "particular usando una palabra, una etiqueta de POS y un indicador de número.\n",
    "\n",
    "Como hablamos en clase, **los synsets se ordenan según la frecuencia**. dog.n.01 es el primer sentido (o el más frecuente) de perro. \n",
    "\n",
    "El segundo sentido de perro se puede denominar dog.n.02.\n",
    "\n",
    "En la salida anterior, el segundo synset se conoce como frump.n.01. Este synset es el mismo\n",
    "que dog.n.02. frump.n.01 solo significa que este synset es también el primer synset para la\n",
    "palabra \"frump\". Pruebe lo siguiente para comprender mejor:\n"
   ]
  },
  {
   "cell_type": "code",
   "execution_count": 9,
   "id": "108e5f0d",
   "metadata": {},
   "outputs": [
    {
     "data": {
      "text/plain": [
       "Synset('dog.n.01')"
      ]
     },
     "execution_count": 9,
     "metadata": {},
     "output_type": "execute_result"
    }
   ],
   "source": [
    "wn.synset('dog.n.01')"
   ]
  },
  {
   "cell_type": "code",
   "execution_count": 10,
   "id": "28924d95",
   "metadata": {},
   "outputs": [
    {
     "data": {
      "text/plain": [
       "Synset('frump.n.01')"
      ]
     },
     "execution_count": 10,
     "metadata": {},
     "output_type": "execute_result"
    }
   ],
   "source": [
    "wn.synset('dog.n.02')"
   ]
  },
  {
   "cell_type": "code",
   "execution_count": 11,
   "id": "35f469c3",
   "metadata": {},
   "outputs": [
    {
     "data": {
      "text/plain": [
       "Synset('frump.n.01')"
      ]
     },
     "execution_count": 11,
     "metadata": {},
     "output_type": "execute_result"
    }
   ],
   "source": [
    "wn.synset('frump.n.01')"
   ]
  },
  {
   "cell_type": "markdown",
   "id": "ff272408",
   "metadata": {},
   "source": [
    "Ahora,\tpreguntemosle\ta\tWordNet\t **definiciones**\tde\tcada sentido y los sinónimos\tagrupados\ten\tun\tsynset"
   ]
  },
  {
   "cell_type": "code",
   "execution_count": 12,
   "id": "a800ff4e",
   "metadata": {},
   "outputs": [
    {
     "data": {
      "text/plain": [
       "'a member of the genus Canis (probably descended from the common wolf) that has been domesticated by man since prehistoric times; occurs in many breeds'"
      ]
     },
     "execution_count": 12,
     "metadata": {},
     "output_type": "execute_result"
    }
   ],
   "source": [
    "wn.synset('dog.n.01').definition()"
   ]
  },
  {
   "cell_type": "code",
   "execution_count": 15,
   "id": "2aa24cb5",
   "metadata": {},
   "outputs": [
    {
     "data": {
      "text/plain": [
       "'a dull unattractive unpleasant girl or woman'"
      ]
     },
     "execution_count": 15,
     "metadata": {},
     "output_type": "execute_result"
    }
   ],
   "source": [
    "wn.synset('dog.n.02').definition()"
   ]
  },
  {
   "cell_type": "code",
   "execution_count": 14,
   "id": "6e624d3f",
   "metadata": {},
   "outputs": [
    {
     "data": {
      "text/plain": [
       "[Lemma('dog.n.01.dog'),\n",
       " Lemma('dog.n.01.domestic_dog'),\n",
       " Lemma('dog.n.01.Canis_familiaris')]"
      ]
     },
     "execution_count": 14,
     "metadata": {},
     "output_type": "execute_result"
    }
   ],
   "source": [
    "# Los sinónimos de un synset pueden ser obtenidos usando el método lemmas().\n",
    "wn.synset('dog.n.01').lemmas()"
   ]
  },
  {
   "cell_type": "code",
   "execution_count": 23,
   "id": "f5d17be4",
   "metadata": {},
   "outputs": [
    {
     "data": {
      "text/plain": [
       "['dog', 'domestic_dog', 'Canis_familiaris']"
      ]
     },
     "execution_count": 23,
     "metadata": {},
     "output_type": "execute_result"
    }
   ],
   "source": [
    "[str(lemma.name()) for lemma in wn.synset('dog.n.01').lemmas()]"
   ]
  },
  {
   "cell_type": "code",
   "execution_count": 21,
   "id": "4a5982dd",
   "metadata": {},
   "outputs": [
    {
     "name": "stdout",
     "output_type": "stream",
     "text": [
      "['the dog barked all night']\n"
     ]
    }
   ],
   "source": [
    "print(wn.synset('dog.n.01').examples())"
   ]
  },
  {
   "cell_type": "markdown",
   "id": "0df3f0a9",
   "metadata": {},
   "source": [
    "### 4 Relaciones entre palabras en WordNet\n",
    "\n",
    "Ahora veamos cómo consultar las relaciones entre los synsets de WordNet. Recuerde que\n",
    "el hiperónimo se refiere al superconjunto de una entidad y el hipónimo se refiere a\n",
    "subconjuntos más específicos.\n",
    "Puede consultar hipernimos e hipónimos utilizando los siguientes métodos:"
   ]
  },
  {
   "cell_type": "code",
   "execution_count": 24,
   "id": "5c7eafd3",
   "metadata": {},
   "outputs": [],
   "source": [
    "dog = wn.synset('dog.n.01')"
   ]
  },
  {
   "cell_type": "code",
   "execution_count": 25,
   "id": "dc15ece6",
   "metadata": {},
   "outputs": [
    {
     "data": {
      "text/plain": [
       "[Synset('canine.n.02'), Synset('domestic_animal.n.01')]"
      ]
     },
     "execution_count": 25,
     "metadata": {},
     "output_type": "execute_result"
    }
   ],
   "source": [
    "dog.hypernyms()"
   ]
  },
  {
   "cell_type": "code",
   "execution_count": 26,
   "id": "8f24da31",
   "metadata": {},
   "outputs": [
    {
     "data": {
      "text/plain": [
       "[Synset('basenji.n.01'),\n",
       " Synset('corgi.n.01'),\n",
       " Synset('cur.n.01'),\n",
       " Synset('dalmatian.n.02'),\n",
       " Synset('great_pyrenees.n.01'),\n",
       " Synset('griffon.n.02'),\n",
       " Synset('hunting_dog.n.01'),\n",
       " Synset('lapdog.n.01'),\n",
       " Synset('leonberg.n.01'),\n",
       " Synset('mexican_hairless.n.01'),\n",
       " Synset('newfoundland.n.01'),\n",
       " Synset('pooch.n.01'),\n",
       " Synset('poodle.n.01'),\n",
       " Synset('pug.n.01'),\n",
       " Synset('puppy.n.01'),\n",
       " Synset('spitz.n.01'),\n",
       " Synset('toy_dog.n.01'),\n",
       " Synset('working_dog.n.01')]"
      ]
     },
     "execution_count": 26,
     "metadata": {},
     "output_type": "execute_result"
    }
   ],
   "source": [
    "dog.hyponyms()"
   ]
  },
  {
   "cell_type": "markdown",
   "id": "202a6122",
   "metadata": {},
   "source": [
    "Como ya vimos en la sección anterior, las formas de palabras individuales en un conjunto se\n",
    "conocen como lemas. Algunas relaciones solo se mantienen entre lemas (es decir, entre\n",
    "formas de palabras específicas) en lugar de los conjuntos de sinónimos\n",
    "\n",
    "Por ejemplo, recupere el primer synset asociado con el adjetivo \"good\" (bueno, en inglés) e\n",
    "imprima sus lemas."
   ]
  },
  {
   "cell_type": "code",
   "execution_count": 33,
   "id": "72334617",
   "metadata": {},
   "outputs": [
    {
     "data": {
      "text/plain": [
       "[Lemma('good.a.01.good')]"
      ]
     },
     "execution_count": 33,
     "metadata": {},
     "output_type": "execute_result"
    }
   ],
   "source": [
    "good = wn.synset('good.a.01')\n",
    "good.lemmas()"
   ]
  },
  {
   "cell_type": "markdown",
   "id": "1582d591",
   "metadata": {},
   "source": [
    "Solo\thay\tuna\tforma\tde\tlema\to\tpalabra\ten\teste\tsintetizador.\tPuede\trecuperar\tantónimos\tpara\tuna\tforma\tde\t\n",
    "palabra\tde\tla\tsiguiente\tmanera:"
   ]
  },
  {
   "cell_type": "code",
   "execution_count": 34,
   "id": "4c16e4d2",
   "metadata": {},
   "outputs": [
    {
     "data": {
      "text/plain": [
       "[Lemma('bad.a.01.bad')]"
      ]
     },
     "execution_count": 34,
     "metadata": {},
     "output_type": "execute_result"
    }
   ],
   "source": [
    "g0 = good.lemmas()[0]\n",
    "g0.antonyms()"
   ]
  },
  {
   "cell_type": "markdown",
   "id": "f2aae324",
   "metadata": {},
   "source": [
    "Exploremos también dos relaciones más: meronym y holonym. Un merónimo de una\n",
    "palabra es una subparte o miembro. Un holónimo es un todo del cual la palabra es parte o\n",
    "miembro. Hay métodos separados en NLTK que recuperan merónimos / holónimos para las\n",
    "relaciones entre partes y miembros. P.ej:"
   ]
  },
  {
   "cell_type": "code",
   "execution_count": 37,
   "id": "239d7714",
   "metadata": {},
   "outputs": [
    {
     "data": {
      "text/plain": [
       "[Synset('flag.n.07')]"
      ]
     },
     "execution_count": 37,
     "metadata": {},
     "output_type": "execute_result"
    }
   ],
   "source": [
    "dog.part_meronyms()"
   ]
  },
  {
   "cell_type": "code",
   "execution_count": 38,
   "id": "fb4fd65d",
   "metadata": {},
   "outputs": [
    {
     "data": {
      "text/plain": [
       "[]"
      ]
     },
     "execution_count": 38,
     "metadata": {},
     "output_type": "execute_result"
    }
   ],
   "source": [
    "dog.member_meronyms()"
   ]
  },
  {
   "cell_type": "code",
   "execution_count": 39,
   "id": "61d1b967",
   "metadata": {},
   "outputs": [
    {
     "data": {
      "text/plain": [
       "[]"
      ]
     },
     "execution_count": 39,
     "metadata": {},
     "output_type": "execute_result"
    }
   ],
   "source": [
    "dog.part_holonyms()"
   ]
  },
  {
   "cell_type": "code",
   "execution_count": 40,
   "id": "2e8da279",
   "metadata": {},
   "outputs": [
    {
     "data": {
      "text/plain": [
       "[Synset('canis.n.01'), Synset('pack.n.06')]"
      ]
     },
     "execution_count": 40,
     "metadata": {},
     "output_type": "execute_result"
    }
   ],
   "source": [
    "dog.member_holonyms()"
   ]
  },
  {
   "cell_type": "markdown",
   "id": "e5f732ed",
   "metadata": {},
   "source": [
    "Este resultado dice que flag.n.07 es parte de dog.n.01 y dog.n.01 es miembro de canis.n.01\n",
    "y pack.n.06.\n",
    "\n",
    "**Ejercicio:** Utilizando lo que ha estudiado hasta ahora, imprima las definiciones de flag.n.07,\n",
    "canis.n.01 y pack.n.06 y vea si ve por qué estos synsets están relacionados de esta\n",
    "manera."
   ]
  },
  {
   "cell_type": "code",
   "execution_count": 41,
   "id": "1fdf30a2",
   "metadata": {},
   "outputs": [
    {
     "data": {
      "text/plain": [
       "'a conspicuously marked or shaped tail'"
      ]
     },
     "execution_count": 41,
     "metadata": {},
     "output_type": "execute_result"
    }
   ],
   "source": [
    "# OUPUT: una cola visiblemente marcada o con forma\n",
    "wn.synset('flag.n.07').definition()"
   ]
  },
  {
   "cell_type": "code",
   "execution_count": 42,
   "id": "c744b879",
   "metadata": {},
   "outputs": [
    {
     "data": {
      "text/plain": [
       "'type genus of the Canidae: domestic and wild dogs; wolves; jackals'"
      ]
     },
     "execution_count": 42,
     "metadata": {},
     "output_type": "execute_result"
    }
   ],
   "source": [
    "# OUTPUT: género tipo de los Canidae: perros domésticos y salvajes; Lobos; chacales\n",
    "wn.synset('canis.n.0').definition()"
   ]
  },
  {
   "cell_type": "code",
   "execution_count": 43,
   "id": "97fc5899",
   "metadata": {},
   "outputs": [
    {
     "data": {
      "text/plain": [
       "'a group of hunting animals'"
      ]
     },
     "execution_count": 43,
     "metadata": {},
     "output_type": "execute_result"
    }
   ],
   "source": [
    "# OUTPUT: un grupo de animales de caza\n",
    "wn.synset('pack.n.06').definition()"
   ]
  },
  {
   "cell_type": "markdown",
   "id": "77a5188f",
   "metadata": {},
   "source": [
    "Reemplazando en la definicion comprobamos la afirmacion\n",
    "\n",
    "*Este resultado dice que [flag.n.07](una cola visiblemente marcada o con forma) es parte de [dog.n.01](def perro) \n",
    "y dog.n.01 es miembro de [canis.n.01](género tipo de los Canidae: perros domésticos y salvajes; Lobos; chacales) y \n",
    "[pack.n.06]( un grupo de animales de caza).*"
   ]
  },
  {
   "cell_type": "markdown",
   "id": "15125017",
   "metadata": {},
   "source": [
    "### 5 Desambiguación de palabras por sentido (Word Sense Desambiguation) \n",
    "\n",
    "Como vimos en las clases, la tarea de desambiguación del sentido de las palabras es tomar\n",
    "una palabra en el contexto de la oración y mapearla a uno de los sentidos de la palabra, por\n",
    "ejemplo. asignar a un synset en WordNet.\n",
    "\n",
    "Estudiamos dos enfoques, un sistema de clasificación supervisado donde las palabras de\n",
    "contexto entran como feautres(características) y el otro es el algoritmo de Lesk que utilizó el\n",
    "recurso del diccionario para la desambiguación.\n",
    "\n",
    "Ejercicio: recuerde el algoritmo de Lesk. ¿Cuáles fueron los pasos?\n",
    "Usamos el siguiente ejemplo en la clase, intentemos con el mismo"
   ]
  },
  {
   "cell_type": "markdown",
   "id": "ce18962e",
   "metadata": {},
   "source": [
    "(El banco puede garantizar que los depósitos eventualmente cubrirán los costos de matrícula futuros porque invierte en \n",
    " valores hipotecarios de tasa ajustable.)\n",
    "Queremos eliminar la ambigüedad de **bank** en este **contexto**.\n",
    "\n",
    "**Ejercicio:** ¿Cuántos sentidos crees que tiene la palabra bank? .\n",
    "Use lo que ha estudiado hasta ahora para recuperar todos los synsets asociados con el \"bank\" con el POS de sustantivo. ¿Cuántos sentidos sustantivos de \"banco\" hay en WordNet?\n",
    "\n",
    "¿Qué synset es el sentido correcto para la palabra en el contexto de la oración anterior?\n",
    "Ahora veamos qué nos da el algoritmo Lesk."
   ]
  },
  {
   "cell_type": "code",
   "execution_count": 3,
   "id": "ede174ff",
   "metadata": {},
   "outputs": [
    {
     "name": "stdout",
     "output_type": "stream",
     "text": [
      "Synset('bank.n.05')\n"
     ]
    }
   ],
   "source": [
    "from nltk.wsd import lesk\n",
    "from nltk import word_tokenize\n",
    "S =\"The bank can guarantee deposits will eventually cover future tuition costs because it invests in adjustable-rate mortgage securities.\"\n",
    "S_tok = word_tokenize(S)\n",
    "print(lesk(S_tok,'bank','n'))"
   ]
  },
  {
   "cell_type": "code",
   "execution_count": 4,
   "id": "96a1d717",
   "metadata": {},
   "outputs": [
    {
     "data": {
      "text/plain": [
       "'a supply or stock held in reserve for future use (especially in emergencies)'"
      ]
     },
     "execution_count": 4,
     "metadata": {},
     "output_type": "execute_result"
    }
   ],
   "source": [
    "# Ejercicio: ¿Qué synset fue producido por Lesk?\n",
    "wn.synset('bank.n.05').definition()"
   ]
  },
  {
   "cell_type": "markdown",
   "id": "c8119858",
   "metadata": {},
   "source": [
    "¿Entiendes por qué tienes esta predicción? Veamos cómo NLTK está implementando Lesk.\n",
    "Puede encontrar el código fuente aquí http://www.nltk.org/_modules/nltk/wsd.html.\n",
    "\n",
    "Hagamos algunos diagnósticos."
   ]
  },
  {
   "cell_type": "code",
   "execution_count": 10,
   "id": "931d4b6b",
   "metadata": {},
   "outputs": [
    {
     "name": "stdout",
     "output_type": "stream",
     "text": [
      "['a', 'supply', 'or', 'stock', 'held', 'in', 'reserve', 'for', 'future', 'use', '(', 'especially', 'in', 'emergencies', ')']\n"
     ]
    }
   ],
   "source": [
    "l = word_tokenize((wn.synset('bank.n.05').definition()))\n",
    "print(l)"
   ]
  },
  {
   "cell_type": "code",
   "execution_count": 11,
   "id": "d340b089",
   "metadata": {},
   "outputs": [
    {
     "name": "stdout",
     "output_type": "stream",
     "text": [
      "['a', 'financial', 'institution', 'that', 'accepts', 'deposits', 'and', 'channels', 'the', 'money', 'into', 'lending', 'activities']\n"
     ]
    }
   ],
   "source": [
    "m = word_tokenize((wn.synset('bank.n.02').definition()))\n",
    "print(m)"
   ]
  },
  {
   "cell_type": "code",
   "execution_count": 12,
   "id": "db8550a0",
   "metadata": {},
   "outputs": [
    {
     "data": {
      "text/plain": [
       "{'future', 'in'}"
      ]
     },
     "execution_count": 12,
     "metadata": {},
     "output_type": "execute_result"
    }
   ],
   "source": [
    "# para quitar repetidos\n",
    "k = set(S_tok)\n",
    "\n",
    "# En comun k - l\n",
    "k.intersection(l)"
   ]
  },
  {
   "cell_type": "code",
   "execution_count": 13,
   "id": "95c81236",
   "metadata": {},
   "outputs": [
    {
     "data": {
      "text/plain": [
       "{'deposits'}"
      ]
     },
     "execution_count": 13,
     "metadata": {},
     "output_type": "execute_result"
    }
   ],
   "source": [
    "# En comun k - m\n",
    "k.intersection(m)"
   ]
  },
  {
   "cell_type": "markdown",
   "id": "3b4dcc35",
   "metadata": {},
   "source": [
    "¿Ves ahora por qué tienes esta predicción?\n",
    "\n",
    "**RPTA: pareciera que es el que tiene mayor interseccion con la definicion tokenizada**\n",
    "\n",
    "¿Qué cambios, de haber alguno, sugeriría para la correspondencia implementada por NLTK?\n",
    "<br>\n",
    "<br>\n",
    "<br>\n",
    "**Viendo la documentacion que hace esta funcion LESK**\n",
    "\n",
    "[1] Lesk, Michael. \"Desambiguación automática de sentidos utilizando  diccionarios legibles por máquina: \n",
    "    *cómo distinguir un cono de pino de un cono de helado* \".\n",
    "    \n",
    "    Actas de la 5ª Conferencia Internacional Anual sobre Documentación de Sistemas. ACM, 1986. \n",
    "    https://dl.acm.org/citation.cfm?id=318728 "
   ]
  },
  {
   "cell_type": "markdown",
   "id": "c1171fd0",
   "metadata": {},
   "source": [
    "Ejercicio: para cada ejemplo, a continuación descubra el sentido correcto de WordNet según\n",
    "su criterio. Puede usar la búsqueda en línea de WordNet para navegar a través de los\n",
    "sentidos. http://wordnetweb.princeton.edu/perl/webwn.\n",
    "    \n",
    "Luego use el algoritmo de Lesk para desambiguar las palabras. ¿Cuál es la precisión de la implementación de Lesk de NLTK en estas oraciones?"
   ]
  },
  {
   "cell_type": "code",
   "execution_count": 15,
   "id": "df985e28",
   "metadata": {},
   "outputs": [
    {
     "name": "stdout",
     "output_type": "stream",
     "text": [
      "Synset('savings_bank.n.02')\n"
     ]
    }
   ],
   "source": [
    "tok_1= word_tokenize('I\twent\tto\tthe\tbank\tto\tdeposit\tsome\tmoney.')\n",
    "print(lesk(tok_1,'bank','n'))"
   ]
  },
  {
   "cell_type": "code",
   "execution_count": 21,
   "id": "48ba6c6c",
   "metadata": {},
   "outputs": [
    {
     "data": {
      "text/plain": [
       "'a container (usually with a slot in the top) for keeping money at home'"
      ]
     },
     "execution_count": 21,
     "metadata": {},
     "output_type": "execute_result"
    }
   ],
   "source": [
    "wn.synset('savings_bank.n.02').definition()\n",
    "# OK"
   ]
  },
  {
   "cell_type": "code",
   "execution_count": 22,
   "id": "37b71c03",
   "metadata": {},
   "outputs": [
    {
     "name": "stdout",
     "output_type": "stream",
     "text": [
      "None\n"
     ]
    }
   ],
   "source": [
    "tok_2= word_tokenize('She\tcreated\ta\tbig\tmess\tof\tthe\tbirthday\tcake.')\n",
    "print(lesk(tok_2,'created','n'))\n",
    "# No debio encontrar la interseccion"
   ]
  },
  {
   "cell_type": "code",
   "execution_count": 23,
   "id": "9cebeec5",
   "metadata": {},
   "outputs": [
    {
     "name": "stdout",
     "output_type": "stream",
     "text": [
      "Synset('interest.n.04')\n"
     ]
    }
   ],
   "source": [
    "tok_3= word_tokenize('In\tthe\tinterest\tof\tyour\tsafety,\tplease\twear\tyour\tseatbelt.')\n",
    "print(lesk(tok_3,'interest','n'))"
   ]
  },
  {
   "cell_type": "code",
   "execution_count": 27,
   "id": "7d92db0d",
   "metadata": {},
   "outputs": [
    {
     "data": {
      "text/plain": [
       "'a fixed charge for borrowing money; usually a percentage of the amount borrowed'"
      ]
     },
     "execution_count": 27,
     "metadata": {},
     "output_type": "execute_result"
    }
   ],
   "source": [
    "wn.synset('interest.n.04').definition()\n",
    "# No coincide,el interes [seguridad] con la respuesta de interes [bancario]"
   ]
  },
  {
   "cell_type": "code",
   "execution_count": 29,
   "id": "86b99429",
   "metadata": {},
   "outputs": [
    {
     "name": "stdout",
     "output_type": "stream",
     "text": [
      "Synset('toast.v.02')\n"
     ]
    }
   ],
   "source": [
    "tok_4= word_tokenize('I\tdrank\tsome\tice\tcold\twater.')\n",
    "print(lesk(tok_4,'drank','v')) # Es vervo segun WordNet"
   ]
  },
  {
   "cell_type": "code",
   "execution_count": 30,
   "id": "d576df7b",
   "metadata": {},
   "outputs": [
    {
     "data": {
      "text/plain": [
       "'propose a toast to'"
      ]
     },
     "execution_count": 30,
     "metadata": {},
     "output_type": "execute_result"
    }
   ],
   "source": [
    "wn.synset('toast.v.02').definition()\n",
    "# OK - muy parecido"
   ]
  },
  {
   "cell_type": "markdown",
   "id": "bc65ce9e",
   "metadata": {},
   "source": [
    "Luego use el algoritmo de Lesk para desambiguar las palabras. \n",
    "¿Cuál es la precisión de la implementación de Lesk de NLTK en estas oraciones?\n",
    "\n",
    "**Un 50% aproximadamente**"
   ]
  },
  {
   "cell_type": "markdown",
   "id": "986d502c",
   "metadata": {},
   "source": [
    "### 6 Un poco más allá\n",
    "\n",
    "A lemma form of a word groups inflections of a word together. ie. ‘walked’, ‘walking’, ‘walks’,‘walk’ are all inflections or morphological variants of the word ‘walk’. NLTK has facility to lemmatize words.\n",
    "\n",
    "Si ya estás cómodo con el contenido anterior, podés desafiarte con este ejercicio. \n",
    "Este ejercicio tiene un “final abierto”.\n",
    "\n",
    "Ejercicio: un lemma de una palabra agrupa las inflexiones de una palabra. \n",
    "Es decir, ‘walked’, ‘walking’, ‘walks’, ‘walk’ son todas inflexiones o variantes morfológicas de la\n",
    "palabra walk (\"caminar\"). \n",
    "\n",
    "NLTK tiene capacidad para lematizar palabras."
   ]
  },
  {
   "cell_type": "code",
   "execution_count": 31,
   "id": "25adac78",
   "metadata": {},
   "outputs": [
    {
     "data": {
      "text/plain": [
       "'dog'"
      ]
     },
     "execution_count": 31,
     "metadata": {},
     "output_type": "execute_result"
    }
   ],
   "source": [
    "from\tnltk.stem\timport\tWordNetLemmatizer\n",
    "wnLemmatizer = WordNetLemmatizer()\n",
    "wnLemmatizer.lemmatize('dogs','n')"
   ]
  },
  {
   "cell_type": "code",
   "execution_count": 32,
   "id": "aed83cf8",
   "metadata": {},
   "outputs": [
    {
     "data": {
      "text/plain": [
       "'walk'"
      ]
     },
     "execution_count": 32,
     "metadata": {},
     "output_type": "execute_result"
    }
   ],
   "source": [
    "wnLemmatizer.lemmatize('walking','v')"
   ]
  },
  {
   "cell_type": "code",
   "execution_count": null,
   "id": "ff8bbf4d",
   "metadata": {},
   "outputs": [],
   "source": [
    "Aquí informamos al lematizador si la palabra dada es un sustantivo o un verbo. \n",
    "La configuración predeterminada para el método es un sustantivo, es decir. si corre sin\n",
    "argumentos, el lema será correcto para los sustantivos pero quizás no para los verbos."
   ]
  },
  {
   "cell_type": "code",
   "execution_count": 33,
   "id": "a77ae286",
   "metadata": {},
   "outputs": [
    {
     "data": {
      "text/plain": [
       "'dog'"
      ]
     },
     "execution_count": 33,
     "metadata": {},
     "output_type": "execute_result"
    }
   ],
   "source": [
    "wnLemmatizer.lemmatize('dogs')"
   ]
  },
  {
   "cell_type": "code",
   "execution_count": null,
   "id": "e756bd81",
   "metadata": {},
   "outputs": [],
   "source": [
    "¿Podrías mejorar el algoritmo de Lesk con un lematizador? Si es así, ¿podrías escribir una\n",
    "función de match, que tome dos cadenas y devuelva las palabras coincidentes entre ellas?\n",
    "Queremos que las coincidencias(matches) sean útiles para un algoritmo como Lesk.\n",
    "¿Quizás también necesites usar un etiquetador POS? Podes usar un etiquetador POS incorporado en WordNet."
   ]
  },
  {
   "cell_type": "code",
   "execution_count": 35,
   "id": "5bce6698",
   "metadata": {},
   "outputs": [
    {
     "data": {
      "text/plain": [
       "[('I', 'PRP'),\n",
       " ('went', 'VBD'),\n",
       " ('to', 'TO'),\n",
       " ('the', 'DT'),\n",
       " ('bank', 'NN'),\n",
       " ('to', 'TO'),\n",
       " ('deposit', 'VB'),\n",
       " ('some', 'DT'),\n",
       " ('money', 'NN'),\n",
       " ('.', '.')]"
      ]
     },
     "execution_count": 35,
     "metadata": {},
     "output_type": "execute_result"
    }
   ],
   "source": [
    "nltk.pos_tag(word_tokenize(\"I\twent\tto\tthe\tbank\tto\tdeposit\tsome\tmoney.\"))"
   ]
  },
  {
   "cell_type": "code",
   "execution_count": 36,
   "id": "4d817843",
   "metadata": {},
   "outputs": [],
   "source": [
    "def Lesk_lematizado(cad1, cad2):\n",
    "    cad1_tag = nltk.pos_tag(word_tokenize(cad1))\n",
    "    cad2_tag = nltk.pos_tag(word_tokenize(cad2))\n",
    "    cad1_lemmatizada = []\n",
    "    cad2_lemmatizada = []\n",
    "    \n",
    "    for (a,b) in cad1_tag:\n",
    "        if(b[0].lower() == 'n' or b[0].lower() == 'v'):# para saber si es 'NN'  o 'VB'\n",
    "            w = wnLemmatizer.lemmatize(a,b[0].lower())\n",
    "            cad1_lemmatizada.append(w)\n",
    "            \n",
    "    for (a,b) in cad2_tag:\n",
    "        if(b[0].lower() == 'n' or b[0].lower() == 'v'):\n",
    "            w = wnLemmatizer.lemmatize(a,b[0].lower())\n",
    "            cad2_lemmatizada.append(w)\n",
    "            \n",
    "    set_cad1_lemmatizada = set(cad1_lemmatizada)\n",
    "    set_cad2_lemmatizada = set(cad2_lemmatizada)\n",
    "    return set_cad1_lemmatizada.intersection(set_cad2_lemmatizada)"
   ]
  },
  {
   "cell_type": "code",
   "execution_count": 37,
   "id": "35d11854",
   "metadata": {},
   "outputs": [
    {
     "data": {
      "text/plain": [
       "{'dog'}"
      ]
     },
     "execution_count": 37,
     "metadata": {},
     "output_type": "execute_result"
    }
   ],
   "source": [
    "Lesk_lematizado(\"dogs and cats\",\"dog and kitties\")"
   ]
  },
  {
   "cell_type": "code",
   "execution_count": 38,
   "id": "60fce132",
   "metadata": {},
   "outputs": [
    {
     "data": {
      "text/plain": [
       "{'bank', 'go'}"
      ]
     },
     "execution_count": 38,
     "metadata": {},
     "output_type": "execute_result"
    }
   ],
   "source": [
    "Lesk_lematizado(\"i went to the bank\", \"we go to the banks\") "
   ]
  },
  {
   "cell_type": "code",
   "execution_count": 39,
   "id": "885034a0",
   "metadata": {},
   "outputs": [
    {
     "data": {
      "text/plain": [
       "{'know', 'put'}"
      ]
     },
     "execution_count": 39,
     "metadata": {},
     "output_type": "execute_result"
    }
   ],
   "source": [
    "Lesk_lematizado(\"bro i dont know what to put here\",\"my brother knows he puts his pants here\")"
   ]
  }
 ],
 "metadata": {
  "kernelspec": {
   "display_name": "Python 3 (ipykernel)",
   "language": "python",
   "name": "python3"
  },
  "language_info": {
   "codemirror_mode": {
    "name": "ipython",
    "version": 3
   },
   "file_extension": ".py",
   "mimetype": "text/x-python",
   "name": "python",
   "nbconvert_exporter": "python",
   "pygments_lexer": "ipython3",
   "version": "3.8.8"
  }
 },
 "nbformat": 4,
 "nbformat_minor": 5
}
